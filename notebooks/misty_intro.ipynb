{
 "cells": [
  {
   "cell_type": "code",
   "execution_count": 1,
   "metadata": {},
   "outputs": [
    {
     "name": "stdout",
     "output_type": "stream",
     "text": [
      "Help on class MistyAPI in module misty_py.api:\n",
      "\n",
      "class MistyAPI(misty_py.utils.core.RestAPI)\n",
      " |  MistyAPI(ip=None)\n",
      " |  \n",
      " |  asyncio-based REST API for the misty II robot\n",
      " |  \n",
      " |  - wrap multiple `PartialAPI` objects to access misty\n",
      " |      - for organizational ease\n",
      " |  - handle interacting with websockets\n",
      " |  - a simple usage example\n",
      " |  \n",
      " |  ==========PartialAPIs============\n",
      " |  \n",
      " |      SkillAPI: \n",
      " |              interact with on-robot skills available on misty\n",
      " |      \n",
      " |      \n",
      " |      NavigationAPI: \n",
      " |              control mapping, tracking, driving, etc\n",
      " |              \n",
      " |              can also take depth/fisheye pics\n",
      " |      \n",
      " |      \n",
      " |      SystemAPI: \n",
      " |              interact with various system elements on the robot\n",
      " |              \n",
      " |              get logs, battery, etc\n",
      " |      \n",
      " |      \n",
      " |      MovementAPI: \n",
      " |              specifically control head, arms, driving movement, etc\n",
      " |      \n",
      " |      \n",
      " |      FaceAPI: \n",
      " |              perform face detection, training, recognition; delete faces\n",
      " |      \n",
      " |      \n",
      " |      AudioAPI: \n",
      " |              record, play, change volume, manage audio files\n",
      " |      \n",
      " |      \n",
      " |      ImageAPI: \n",
      " |              handle pics, video, uploading/downloading images, changing led color, etc\n",
      " |      \n",
      " |  =================================\n",
      " |  \n",
      " |  \n",
      " |  ===========websockets============\n",
      " |  \n",
      " |      `ws` contains access to the websocket interface, used for pub/sub interaction\n",
      " |  \n",
      " |      `subscription_data` contains the most recent piece of data received from websockets\n",
      " |  \n",
      " |  =================================\n",
      " |  \n",
      " |  \n",
      " |  \n",
      " |  ==============usage==============\n",
      " |  \n",
      " |      def _run_example():\n",
      " |      \"\"\"\n",
      " |      example function showing how misty can be used\n",
      " |  \n",
      " |      in addition, async funcs can be awaited directly from the jupyter console\n",
      " |      \"\"\"\n",
      " |  \n",
      " |      async def run(ip):\n",
      " |          api = MistyAPI(ip)\n",
      " |  \n",
      " |          # run a single task and wait for it to be triggered\n",
      " |          post_res = await api.movement.drive(0, -20, 10000)\n",
      " |  \n",
      " |          # dispatch multiple tasks at once\n",
      " |          coros = (api.images.take_picture(),\n",
      " |                   api.system.help(),\n",
      " |                   api.system.battery  # note: `battery` is an \"async\" property\n",
      " |                   )\n",
      " |          results_in_order = await asyncio.gather(*coros)\n",
      " |          return results_in_order\n",
      " |  \n",
      " |      asyncio.run(run('https://fake'))\n",
      " |  \n",
      " |  =================================\n",
      " |  \n",
      " |  Method resolution order:\n",
      " |      MistyAPI\n",
      " |      misty_py.utils.core.RestAPI\n",
      " |      abc.ABC\n",
      " |      builtins.object\n",
      " |  \n",
      " |  Methods defined here:\n",
      " |  \n",
      " |  __init__(self, ip=None)\n",
      " |      Initialize self.  See help(type(self)) for accurate signature.\n",
      " |  \n",
      " |  ----------------------------------------------------------------------\n",
      " |  Data and other attributes defined here:\n",
      " |  \n",
      " |  __abstractmethods__ = frozenset()\n",
      " |  \n",
      " |  ----------------------------------------------------------------------\n",
      " |  Data descriptors inherited from misty_py.utils.core.RestAPI:\n",
      " |  \n",
      " |  __dict__\n",
      " |      dictionary for instance variables (if defined)\n",
      " |  \n",
      " |  __weakref__\n",
      " |      list of weak references to the object (if defined)\n",
      "\n"
     ]
    }
   ],
   "source": [
    "from misty_py.api import MistyAPI"
   ]
  },
  {
   "cell_type": "code",
   "execution_count": 2,
   "metadata": {},
   "outputs": [
    {
     "name": "stdout",
     "output_type": "stream",
     "text": [
      "ws://192.168.85.111/pubsub\n"
     ]
    }
   ],
   "source": [
    "api = MistyAPI()"
   ]
  },
  {
   "cell_type": "code",
   "execution_count": null,
   "metadata": {},
   "outputs": [],
   "source": [
    "await api.system.battery"
   ]
  },
  {
   "cell_type": "code",
   "execution_count": null,
   "metadata": {},
   "outputs": [],
   "source": []
  }
 ],
 "metadata": {
  "kernelspec": {
   "display_name": "Python 3",
   "language": "python",
   "name": "python3"
  },
  "language_info": {
   "codemirror_mode": {
    "name": "ipython",
    "version": 3
   },
   "file_extension": ".py",
   "mimetype": "text/x-python",
   "name": "python",
   "nbconvert_exporter": "python",
   "pygments_lexer": "ipython3",
   "version": "3.7.3"
  }
 },
 "nbformat": 4,
 "nbformat_minor": 2
}
